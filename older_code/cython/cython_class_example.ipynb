{
 "cells": [
  {
   "cell_type": "markdown",
   "id": "f0f03002",
   "metadata": {},
   "source": [
    "# Wrapping a c++ class in cython\n",
    "This example follows the class wrapping example on the cython website  \n",
    "https://cython.readthedocs.io/en/latest/src/userguide/wrapping_CPlusPlus.html"
   ]
  },
  {
   "cell_type": "code",
   "execution_count": 2,
   "id": "7f1dc128",
   "metadata": {},
   "outputs": [
    {
     "name": "stdout",
     "output_type": "stream",
     "text": [
      "Overwriting Rectangle.h\n"
     ]
    }
   ],
   "source": [
    "%%writefile Rectangle.h\n",
    "\n",
    "#ifndef RECTANGLE_H\n",
    "#define RECTANGLE_H\n",
    "\n",
    "namespace shapes {\n",
    "    class Rectangle {\n",
    "        public:\n",
    "            int x0, y0, x1, y1;\n",
    "            Rectangle();\n",
    "            Rectangle(int x0, int y0, int x1, int y1);\n",
    "            ~Rectangle();\n",
    "            int getArea();\n",
    "            void getSize(int* width, int* height);\n",
    "            void move(int dx, int dy);\n",
    "    };\n",
    "}\n",
    "\n",
    "#endif"
   ]
  },
  {
   "cell_type": "code",
   "execution_count": 3,
   "id": "072125d2",
   "metadata": {},
   "outputs": [
    {
     "name": "stdout",
     "output_type": "stream",
     "text": [
      "Writing Rectangle.cpp\n"
     ]
    }
   ],
   "source": [
    "%%writefile Rectangle.cpp\n",
    "\n",
    "#include <iostream>\n",
    "#include \"Rectangle.h\"\n",
    "\n",
    "namespace shapes {\n",
    "\n",
    "    // Default constructor\n",
    "    Rectangle::Rectangle () {}\n",
    "\n",
    "    // Overloaded constructor\n",
    "    Rectangle::Rectangle (int x0, int y0, int x1, int y1) {\n",
    "        this->x0 = x0;\n",
    "        this->y0 = y0;\n",
    "        this->x1 = x1;\n",
    "        this->y1 = y1;\n",
    "    }\n",
    "\n",
    "    // Destructor\n",
    "    Rectangle::~Rectangle () {}\n",
    "\n",
    "    // Return the area of the rectangle\n",
    "    int Rectangle::getArea () {\n",
    "        return (this->x1 - this->x0) * (this->y1 - this->y0);\n",
    "    }\n",
    "\n",
    "    // Get the size of the rectangle.\n",
    "    // Put the size in the pointer args\n",
    "    void Rectangle::getSize (int *width, int *height) {\n",
    "        (*width) = x1 - x0;\n",
    "        (*height) = y1 - y0;\n",
    "    }\n",
    "\n",
    "    // Move the rectangle by dx dy\n",
    "    void Rectangle::move (int dx, int dy) {\n",
    "        this->x0 += dx;\n",
    "        this->y0 += dy;\n",
    "        this->x1 += dx;\n",
    "        this->y1 += dy;\n",
    "    }\n",
    "}"
   ]
  },
  {
   "cell_type": "code",
   "execution_count": 4,
   "id": "2e2b2085",
   "metadata": {},
   "outputs": [
    {
     "name": "stdout",
     "output_type": "stream",
     "text": [
      "Writing Rectangle.pxd\n"
     ]
    }
   ],
   "source": [
    "%%writefile Rectangle.pxd\n",
    "cdef extern from \"Rectangle.cpp\":\n",
    "    pass\n",
    "\n",
    "# Declare the class with cdef\n",
    "cdef extern from \"Rectangle.h\" namespace \"shapes\":\n",
    "    cdef cppclass Rectangle:\n",
    "        Rectangle() except +\n",
    "        Rectangle(int, int, int, int) except +\n",
    "        int x0, y0, x1, y1\n",
    "        int getArea()\n",
    "        void getSize(int* width, int* height)\n",
    "        void move(int, int)"
   ]
  },
  {
   "cell_type": "code",
   "execution_count": 17,
   "id": "f468480f",
   "metadata": {},
   "outputs": [
    {
     "name": "stdout",
     "output_type": "stream",
     "text": [
      "Overwriting rect.pyx\n"
     ]
    }
   ],
   "source": [
    "%%writefile rect.pyx\n",
    "\n",
    "# distutils: language = c++\n",
    "\n",
    "from Rectangle cimport Rectangle\n",
    "def main():\n",
    "    rec_ptr = new Rectangle(1, 2, 3, 4)  # Instantiate a Rectangle object on the heap\n",
    "    try:\n",
    "        rec_area = rec_ptr.getArea()\n",
    "    finally:\n",
    "        del rec_ptr  # delete heap allocated object\n",
    "\n",
    "    cdef Rectangle rec_stack  # Instantiate a Rectangle object on the stack\n",
    "    \n",
    "# distutils: language = c++\n",
    "\n",
    "from Rectangle cimport Rectangle\n",
    "\n",
    "# Create a Cython extension type which holds a C++ instance\n",
    "# as an attribute and create a bunch of forwarding methods\n",
    "# Python extension type.\n",
    "cdef class PyRectangle:\n",
    "    cdef Rectangle c_rect  # Hold a C++ instance which we're wrapping\n",
    "\n",
    "    def __init__(self, int x0, int y0, int x1, int y1):\n",
    "        self.c_rect = Rectangle(x0, y0, x1, y1)\n",
    "\n",
    "    def get_area(self):\n",
    "        return self.c_rect.getArea()\n",
    "\n",
    "    def get_size(self):\n",
    "        cdef int width, height\n",
    "        self.c_rect.getSize(&width, &height)\n",
    "        return width, height\n",
    "\n",
    "    def move(self, dx, dy):\n",
    "        self.c_rect.move(dx, dy)"
   ]
  },
  {
   "cell_type": "code",
   "execution_count": 18,
   "id": "00ee4156",
   "metadata": {},
   "outputs": [
    {
     "name": "stdout",
     "output_type": "stream",
     "text": [
      "Overwriting setup.py\n"
     ]
    }
   ],
   "source": [
    "%%writefile setup.py\n",
    "\n",
    "from setuptools import setup\n",
    "from Cython.Build import cythonize\n",
    "setup(name=\"rect_test\", ext_modules=cythonize(\"rect.pyx\"))"
   ]
  },
  {
   "cell_type": "code",
   "execution_count": 19,
   "id": "502acdaa",
   "metadata": {},
   "outputs": [
    {
     "name": "stdout",
     "output_type": "stream",
     "text": [
      "Compiling rect.pyx because it changed.\n",
      "[1/1] Cythonizing rect.pyx\n",
      "/home/jake/anaconda3/envs/SEVN/lib/python3.9/site-packages/Cython/Compiler/Main.py:369: FutureWarning: Cython directive 'language_level' not set, using 2 for now (Py2). This will change in a later release! File: /home/jake/SEVN/class_example/rect.pyx\n",
      "  tree = Parsing.p_module(s, pxd, full_module_name)\n",
      "running build_ext\n",
      "building 'rect' extension\n",
      "/home/jake/anaconda3/envs/SEVN/bin/x86_64-conda-linux-gnu-cc -Wno-unused-result -Wsign-compare -DNDEBUG -O2 -Wall -march=nocona -mtune=haswell -ftree-vectorize -fPIC -fstack-protector-strong -fno-plt -O2 -ffunction-sections -pipe -isystem /home/jake/anaconda3/envs/SEVN/include -I/home/jake/anaconda3/envs/SEVN/include -march=nocona -mtune=haswell -ftree-vectorize -fPIC -fstack-protector-strong -fno-plt -O2 -ffunction-sections -pipe -isystem /home/jake/anaconda3/envs/SEVN/include -march=nocona -mtune=haswell -ftree-vectorize -fPIC -fstack-protector-strong -fno-plt -O2 -ffunction-sections -pipe -isystem /home/jake/anaconda3/envs/SEVN/include -DNDEBUG -D_FORTIFY_SOURCE=2 -O2 -isystem /home/jake/anaconda3/envs/SEVN/include -fPIC -I. -I/home/jake/anaconda3/envs/SEVN/include/python3.9 -c rect.cpp -o build/temp.linux-x86_64-cpython-39/rect.o\n",
      "/home/jake/anaconda3/envs/SEVN/bin/x86_64-conda-linux-gnu-c++ -shared -Wl,-O2 -Wl,--sort-common -Wl,--as-needed -Wl,-z,relro -Wl,-z,now -Wl,--disable-new-dtags -Wl,--gc-sections -Wl,-rpath,/home/jake/anaconda3/envs/SEVN/lib -Wl,-rpath-link,/home/jake/anaconda3/envs/SEVN/lib -L/home/jake/anaconda3/envs/SEVN/lib -L/home/jake/anaconda3/envs/SEVN/lib -Wl,-O2 -Wl,--sort-common -Wl,--as-needed -Wl,-z,relro -Wl,-z,now -Wl,--disable-new-dtags -Wl,--gc-sections -Wl,-rpath,/home/jake/anaconda3/envs/SEVN/lib -Wl,-rpath-link,/home/jake/anaconda3/envs/SEVN/lib -L/home/jake/anaconda3/envs/SEVN/lib -Wl,-O2 -Wl,--sort-common -Wl,--as-needed -Wl,-z,relro -Wl,-z,now -Wl,--disable-new-dtags -Wl,--gc-sections -Wl,-rpath,/home/jake/anaconda3/envs/SEVN/lib -Wl,-rpath-link,/home/jake/anaconda3/envs/SEVN/lib -L/home/jake/anaconda3/envs/SEVN/lib -march=nocona -mtune=haswell -ftree-vectorize -fPIC -fstack-protector-strong -fno-plt -O2 -ffunction-sections -pipe -isystem /home/jake/anaconda3/envs/SEVN/include -DNDEBUG -D_FORTIFY_SOURCE=2 -O2 -isystem /home/jake/anaconda3/envs/SEVN/include build/temp.linux-x86_64-cpython-39/rect.o -o build/lib.linux-x86_64-cpython-39/rect.cpython-39-x86_64-linux-gnu.so\n",
      "copying build/lib.linux-x86_64-cpython-39/rect.cpython-39-x86_64-linux-gnu.so -> \n"
     ]
    }
   ],
   "source": [
    "!python3 setup.py build_ext --inplace"
   ]
  },
  {
   "cell_type": "code",
   "execution_count": 23,
   "id": "2c06328e",
   "metadata": {},
   "outputs": [
    {
     "data": {
      "text/plain": [
       "{'__name__': 'rect',\n",
       " '__doc__': None,\n",
       " '__package__': '',\n",
       " '__loader__': <_frozen_importlib_external.ExtensionFileLoader at 0x7fc0127b6f10>,\n",
       " '__spec__': ModuleSpec(name='rect', loader=<_frozen_importlib_external.ExtensionFileLoader object at 0x7fc0127b6f10>, origin='/home/jake/SEVN/class_example/rect.cpython-39-x86_64-linux-gnu.so'),\n",
       " '__file__': '/home/jake/SEVN/class_example/rect.cpython-39-x86_64-linux-gnu.so',\n",
       " '__builtins__': <module 'builtins' (built-in)>,\n",
       " 'PyRectangle': rect.PyRectangle,\n",
       " 'main': <function rect.main>,\n",
       " '__test__': {}}"
      ]
     },
     "execution_count": 23,
     "metadata": {},
     "output_type": "execute_result"
    }
   ],
   "source": [
    "import rect as test\n",
    "vars(test)"
   ]
  },
  {
   "cell_type": "code",
   "execution_count": null,
   "id": "e660367e",
   "metadata": {},
   "outputs": [],
   "source": []
  }
 ],
 "metadata": {
  "kernelspec": {
   "display_name": "Python [conda env:SEVN]",
   "language": "python",
   "name": "conda-env-SEVN-py"
  },
  "language_info": {
   "codemirror_mode": {
    "name": "ipython",
    "version": 3
   },
   "file_extension": ".py",
   "mimetype": "text/x-python",
   "name": "python",
   "nbconvert_exporter": "python",
   "pygments_lexer": "ipython3",
   "version": "3.9.7"
  }
 },
 "nbformat": 4,
 "nbformat_minor": 5
}
