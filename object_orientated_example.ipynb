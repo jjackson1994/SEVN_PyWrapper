{
 "cells": [
  {
   "cell_type": "markdown",
   "id": "64757829",
   "metadata": {},
   "source": [
    "## Idea\n",
    "Could build a model as setting the params as atributes, then have a run command that submits the code to run in the faster c++ code and returns the results\n",
    "\n",
    "Could add input file support standard file way and add other pythonic syntaxs for ease of use  \n",
    "Note this is just follwing the run script in this example. \n",
    "\n",
    "###  Storing the defaults in object orientated way\n",
    "These should be wrote in python way and then changed into the "
   ]
  },
  {
   "cell_type": "code",
   "execution_count": 1,
   "id": "f03f6e6c",
   "metadata": {},
   "outputs": [],
   "source": [
    "### defults\n",
    "class _options:\n",
    "    def __init__(self):\n",
    "        self.SQHE=\"false\" #If true enable the Quasi Homogeneous Evolution  after a RLO mass transfer following Elrdige&Stanway11\n",
    "        self.TABCONV=\"true\" #If true estimate the properties of the convective envelope using the tables (xxxconv.dat)\n",
    "        self.TABXSUP=\"false\"  #If true use the surface abundance tables (xxxsup.dat)\n",
    "        self.TABINERTIA=\"false\" #If true estimate the properties of the stellar inerita using the tables (inertia.dat)\n",
    "        self.INERTIAMODE=\"Hurley\" #option for inertia estimate when tabuse_inertia is false [*Hurley][DeMink][hspherecore][hsphere]\n",
    "        self.TABRHE=\"true\" #If true estimate the properties of the HE core radius using the tables (rhe.dat)\n",
    "        self.TABRCO=\"true\" #If true estimate the properties of the CO core radius using the tables (rhe.dat)\n",
    "        self.THGHURLEY=\"false\" #If true estimate the HG time from the Hurley+00 functional forms instead of using the convective envelope\n",
    "        self.OPTIMISTIC=\"false\" #If true allow the star in the HG (Hurley phase 2) to start a CE\n",
    "    def print_all(self):\n",
    "        attrs = vars(self)\n",
    "        print(', '.join(\"%s: %s\" % item for item in attrs.items()))\n",
    "\n",
    "class _params: #### paramter def\n",
    "    def __init__(self):\n",
    "        #-------GW-------#\n",
    "        self.GWTSHOLD= \"1\" #Enable GW decay if GW_time_decay < GWTSHOLD*Hubble_time\n",
    "        self.GWONLYBCO=\"false\" #If true activate the GW orbital decay on for binary compact objects\n",
    "        #-------RLO-------#\n",
    "        self.RLOEPSNOVA=\"0.001\" #Fraction of accreted matter retained in nova eruption\n",
    "        self.RLOMACCR=\"0.5\" #Fraction of the mass lost by the primary that is accreted onto the secondary during RLO\n",
    "        self.RLOGAM=\"-2\" #Angular momentum lost during RLO. [-1]: from the primary, [-2]: from the secondary, [>0]: fraction lost from the system\n",
    "        self.RLOSTABILITY=\"qcrit_Hradiative_stable\"  #\"Option for RLO mass transfer stability\n",
    "        self.RLONTMAX=\"5\"    #Max value of the mass to use in the normalisation of the nuclear mass transfer (Eq. 59 Hurley+02)\n",
    "        self.RLOCOLLISION=\"false\"  #If true allow collision at periastron during RLO\n",
    "        self.RLOSMTMS=\"true\"   #If true mass transfer from radiative MS and pureHE MS are always stable\n",
    "        #-------ACCRETION-------#\n",
    "        self.EDDF=\"1\" #Eddington factor to limit accretion on a compact object (>1 means super-Eddington)\n",
    "        #-------SN-------#\n",
    "        self.MCHANDRA=\"1.44\" #Chandrasekar mass limit for WD formation\n",
    "        self.SNLOWECSN=\"1.38\" #Minimum value for the CO mass to go ECSN\n",
    "        self.SNLOW=\"1.44\" #Minimum CO value for the CO mass to go SN (i.e. max CO mass for ECSN)\n",
    "        self.SNLOWECSNHE=\"-1\"  #Minimum value for the CO mass to go ECSN for pureHe star, if -1 use the same value as H star\n",
    "        self.SNLOWHE=\"-1\" #Minimum CO value for the CO mass to go SN (i.e. max CO mass for ECSN) for pureHe star, if -1 use the same value as H star\n",
    "        self.SNC25TS=\"0.35\" #csi25 parameter threshold for explosion/implosion decision, if -1 use a stochastic threshold based on the results of  Patton&Sukhbold20\n",
    "        self.SNCOMPFB=\"0.9\" #Fallback fraction for implosions in the compact SN option\n",
    "        self.SNMINVKICK=\"0.0\" #Minimum SN Kick after all the corrections\n",
    "        self.SNVKICKSTD=\"265.0\" #Standard deviation  of the Maxwellian distribution of kick velocity (Used in the Hobbs and Unified SN kick model)\n",
    "        #-------WINDS-------#\n",
    "        self.WALPHA=\"1.5\" #alpha factor to tune the amount of wind accretion (Eq.6 Hurley+02)\n",
    "        self.WBETA=\"0.125\" #beta factor to tune wind velocity (Eq.9 in Hurley+02)\n",
    "        #-------CE-------#\n",
    "        self.CEALPHA=\"3\" #alpha in binding energy (Eq. 73 in Hurley02)\n",
    "        self.CELAM=\"-1\" #if >0 Constant Lambda in binding energy (Eq. 69 in Hurley02). If -1 same Lambda as in BSE (-11 and -12 are other BSE-like variations).\n",
    "        #-4 Lambda interpolated from Klencki21 (-41 is a variation in which the Lambda is not interpolated but it is \"quantised\" in bins)\n",
    "        #-5 Lambda interpolated from  Xu&Li10  (-51 is a variation in which the Lambda is not interpolated but it is \"quantised\" in bins)\n",
    "        self.CELAMHE=\"0.5\" #Constant Lambda in binding energy used for pureHe stars(Eq. 69 in Hurley02).\n",
    "        # Notice: some Lambda model have their own estimate of Lamdba_he (for example option -4), in this case this value is not considered\n",
    "        self.CELAMFTH=\"1\"  #Fraction of internal energy that goes to the binding energy. Used only if star_lambda<0. Notice that some Lambda models do not include an option for the fraction of internal energu (e.g. option -5)\n",
    "        self.CEKCE=\"1\"  #Fraction of non core mass  participating to the CE (e.g. envelope of giants) retained after the CE coalescence.If -1, use a rescaled version of eq. 77 In Hurley\n",
    "        self.CEKNCE=\"1\" #Fraction of non core mass not participating to the CE (e.g. a MS star) retained after the CE coalescence.If -1, use the eq. 77 in Hurley 2002 (ce_kce is ignored)\n",
    "        #-------Hardening-------#\n",
    "        self.HARDRHOC=\"39900\" #central density of the cluster in Msun/pc^3\n",
    "        self.HARDSIGMA=\"5\" #3D velocity dispersion of the cluster in km/s\n",
    "        self.HARDXI=\"3\" #xi parameter for fastcluster hardening option (Eq. 11 Mapelli+21)\n",
    "        self.HARDKAPPA=\"0.1\" #kappa parameter for fastcluster hardening option (Eq. 13 Mapelli+21)\n",
    "        self.HARDMASS=\"1\" #Average mass of the perturber stars in the environment producing the hardening in Msun\n",
    "        #-------NS-------#\n",
    "        self.NSMAX=\"3.0\" #Maximum NS mass\n",
    "        self.NSMAGTSCALE=\"1000\" #Magnetic field decay timescale in Myr\n",
    "        self.NSMAGMSCALE=\"0.15\" #Magnetic field decay mass-scale in Msun\n",
    "        self.NSMASSMEAN=\"1.33\" #NS masses are drawn from a Gaussian with this mean. Notice, not all the SNMODE options allows to use it\n",
    "        self.NSMASSSTD=\"0.09\" #NS masses are drawn from a Gaussian with this std. Notice, not all the SNMODE options allows to use it\n",
    "        #-------BH-------#\n",
    "        self.MAXWSDXSPIN=\"0.1\" # Standard deviation of the Maxwellian distribution for Xspin - default: 0.1.\n",
    "        self.BAVERAXSPIN=\"false\" # Bavera correction for the black-hole spin - default: false.\n",
    "    \n",
    "    def _load_params_from_file():\n",
    "        #need to create a function that finds all the params and then compiars to defaults and asks user to continue \n",
    "        #maybe tell undefined\n",
    "        print(\"example\")\n",
    "    def print_all(self):\n",
    "        attrs = vars(self)\n",
    "        print(', '.join(\"%s: %s\" % item for item in attrs.items()))\n",
    "\n",
    "class _adv_params: #### paramter def\n",
    "    def __init__(self):\n",
    "        #Parameters for jumping onto new tracks\n",
    "        #-------------------------------\n",
    "        self.JTEMAX=\"0.005\" #Maximum relative error in mass when jumping on a new track\n",
    "        self.JTMAXDM=\"1.2\" #Maximum new ZAMS tested when jumping on a new track (Mzams_new_max = Mzams_old + JTMAXDM*DM_accreted_or_donated)\n",
    "        self.JTMINDM=\"0\" #Minimum new ZAMS tested when jumping on a new track (Mzams_new_min = Mzams_old + JTMINDM*DM_accreted_or_donated)\n",
    "        self.JTMAXITER=\"10\" #Maximum number of iterations for reaching convergence\n",
    "        self.JTDMTSHOLD=\"0.01\" #Maximum relative change in total mass for not changing track\n",
    "        # -------------------------------\n",
    "        #Other parameters\n",
    "        #-------------------------------\n",
    "        self.MAXREP=\"50\" #Maximum number of repetitions allowed in the sse and bse. If we reach this number an error is raised\n",
    "        self.NAKEDTS=\"1E-4\" #Mass difference threshold (Msun) between envelope and core to set a star as nakedHe or nakedCO.\n",
    "        self.WRTS=\"0.021\" #Relative difference threshold between envelope (Mass-MHE) and total mass to define a star as Wolf Rayet\n",
    "        self.INITERRSTOP=\"false\" #If true terminate the run when a error on a system initialisation is thrown\n",
    "        self.SMAXCO=\"false\" #If true the first time a star develops a CO core, we set the maximum CO core Mass for SSE as the last value of the interpolating tracks\n",
    "        self.SMINHE=\"false\" #If true the first time a star develops a CO core, we set the minimum HE core Mass for SSE as the last value of the interpolating tracks\n",
    "        # -------------------------------\n",
    "        #Interpolation\n",
    "        #-------------------------------\n",
    "        self.INTW=\"linear\" #Option for setting the weights in the Mass interpolation [*linear][rational][log], Notice for Radius, Inertia and Luminosity it set to log\n",
    "        self.INTWLOG=\"log\" #Option to set weights for mass interpolation for log properties (i.e. Radius,Luminosity,Inertia) [linear][rational][*log]\n",
    "        self.INTWPHASE=\"rational\" #Option to set weights for estimating the stellar phases times [linear][*rational][log]\n",
    "        # -------------------------------\n",
    "        #Timestep\n",
    "        #-------------------------------\n",
    "        self.TSMAXVAR=\"0.05\"  #Relative maximum variation of stellar and binary properties used in the adaptive time step\n",
    "        self.TSMIN=\"-1\" #Force the adaptive timestep to be larger than this value, it will it has the priority on any other option, -1 means that the option is disabled\n",
    "        self.TSMAX=\"-1\" #Force the adaptive timestep to be smaller than this value, it has the priority on any other option, -1 means that the option is disabled\n",
    "        self.TSSPIN=\"false\" #If true take into account the variation (SSE only) of OmegaSpin in the adaptive timestep\n",
    "        self.TSSPINBIN=\"false\" #If true take into account the variation (BSE only) of OmegaSpin in the adaptive timestep\n",
    "        self.TSNSSPIN=\"false\" #If true take into account the variation of OmegaRem for NS in the adaptive timestep. It should be set to true if interested on pulsars\n",
    "        self.CKSTALLING=\"true\" #If true check stalling stars. If the elapsed evolution time is larger than 20s an error is thrown   \n",
    "    def print_all(self):\n",
    "        attrs = vars(self)\n",
    "        print(', '.join(\"%s: %s\" % item for item in attrs.items()))"
   ]
  },
  {
   "cell_type": "markdown",
   "id": "c4e60563",
   "metadata": {},
   "source": [
    "### Example usage, set params then just call the run which submits it to the c++ code"
   ]
  },
  {
   "cell_type": "code",
   "execution_count": 3,
   "id": "28c4f8cb",
   "metadata": {
    "scrolled": true
   },
   "outputs": [
    {
     "name": "stdout",
     "output_type": "stream",
     "text": [
      "all params\n",
      "GWTSHOLD: 1, GWONLYBCO: false, RLOEPSNOVA: 0.001, RLOMACCR: 0.5, RLOGAM: -2, RLOSTABILITY: qcrit_Hradiative_stable, RLONTMAX: 5, RLOCOLLISION: false, RLOSMTMS: true, EDDF: 1, MCHANDRA: 1.44, SNLOWECSN: 1.38, SNLOW: 1.44, SNLOWECSNHE: -1, SNLOWHE: -1, SNC25TS: 0.35, SNCOMPFB: 0.9, SNMINVKICK: 0.0, SNVKICKSTD: 265.0, WALPHA: 1.5, WBETA: 0.125, CEALPHA: 3, CELAM: -1, CELAMHE: 0.5, CELAMFTH: 1, CEKCE: 1, CEKNCE: 1, HARDRHOC: 39900, HARDSIGMA: 5, HARDXI: 3, HARDKAPPA: 0.1, HARDMASS: 1, NSMAX: 3.0, NSMAGTSCALE: 1000, NSMAGMSCALE: 0.15, NSMASSMEAN: 1.33, NSMASSSTD: 0.09, MAXWSDXSPIN: 0.1, BAVERAXSPIN: false\n",
      "\n",
      "m.options.OPTIMISTIC =  false\n",
      "m.params.HARDRHOC =  39900\n",
      "m.adv_params.WRTS =  0.021\n"
     ]
    }
   ],
   "source": [
    "class model: \n",
    "    def __init__(self):\n",
    "        self.options = _options()\n",
    "        self.params = _params()\n",
    "        self.adv_params = _adv_params()\n",
    "\n",
    "m=model()\n",
    "\n",
    "print(\"all params\")\n",
    "m.params.print_all()\n",
    "\n",
    "print(\"\")\n",
    "print(\"m.options.OPTIMISTIC = \", m.options.OPTIMISTIC)\n",
    "print(\"m.params.HARDRHOC = \", m.params.HARDRHOC)\n",
    "print(\"m.adv_params.WRTS = \", m.adv_params.WRTS)"
   ]
  },
  {
   "cell_type": "markdown",
   "id": "ba7def90",
   "metadata": {},
   "source": [
    "## Changing a particular parameter\n",
    "\n",
    "Bulk change with files would be a better idea"
   ]
  },
  {
   "cell_type": "code",
   "execution_count": 4,
   "id": "8986e3ac",
   "metadata": {},
   "outputs": [
    {
     "name": "stdout",
     "output_type": "stream",
     "text": [
      "m.params.RLOCOLLISION =  false\n",
      "m.params.RLOCOLLISION =  true\n"
     ]
    }
   ],
   "source": [
    "print(\"m.params.RLOCOLLISION = \", m.params.RLOCOLLISION)\n",
    "m.params.RLOCOLLISION= \"true\"\n",
    "\n",
    "print(\"m.params.RLOCOLLISION = \", m.params.RLOCOLLISION)\n",
    "#change back\n",
    "m.params.RLOCOLLISION= \"false\""
   ]
  }
 ],
 "metadata": {
  "kernelspec": {
   "display_name": "Python 3 (ipykernel)",
   "language": "python",
   "name": "python3"
  },
  "language_info": {
   "codemirror_mode": {
    "name": "ipython",
    "version": 3
   },
   "file_extension": ".py",
   "mimetype": "text/x-python",
   "name": "python",
   "nbconvert_exporter": "python",
   "pygments_lexer": "ipython3",
   "version": "3.9.12"
  }
 },
 "nbformat": 4,
 "nbformat_minor": 5
}
